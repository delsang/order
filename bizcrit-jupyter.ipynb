{
 "cells": [
  {
   "cell_type": "code",
   "execution_count": 16,
   "metadata": {},
   "outputs": [],
   "source": [
    "import pandas as pd\n",
    "import re"
   ]
  },
  {
   "cell_type": "code",
   "execution_count": 52,
   "metadata": {},
   "outputs": [
    {
     "name": "stdout",
     "output_type": "stream",
     "text": [
      "25\n"
     ]
    },
    {
     "data": {
      "text/html": [
       "<div>\n",
       "<style scoped>\n",
       "    .dataframe tbody tr th:only-of-type {\n",
       "        vertical-align: middle;\n",
       "    }\n",
       "\n",
       "    .dataframe tbody tr th {\n",
       "        vertical-align: top;\n",
       "    }\n",
       "\n",
       "    .dataframe thead th {\n",
       "        text-align: right;\n",
       "    }\n",
       "</style>\n",
       "<table border=\"1\" class=\"dataframe\">\n",
       "  <thead>\n",
       "    <tr style=\"text-align: right;\">\n",
       "      <th></th>\n",
       "      <th>date</th>\n",
       "      <th>order #</th>\n",
       "      <th>Text</th>\n",
       "    </tr>\n",
       "  </thead>\n",
       "  <tbody>\n",
       "    <tr>\n",
       "      <th>20</th>\n",
       "      <td>Tue, 18 Aug 2020 02:31:21 +0000 (UTC)</td>\n",
       "      <td>Thanks for your order: #2000012061</td>\n",
       "      <td>&lt;!DOCTYPE html PUBLIC \"-//W3C//DTD XHTML 1.0 S...</td>\n",
       "    </tr>\n",
       "    <tr>\n",
       "      <th>21</th>\n",
       "      <td>Tue, 18 Aug 2020 02:37:10 +0000 (UTC)</td>\n",
       "      <td>Thanks for your order: #2000012062</td>\n",
       "      <td>&lt;!DOCTYPE html PUBLIC \"-//W3C//DTD XHTML 1.0 S...</td>\n",
       "    </tr>\n",
       "    <tr>\n",
       "      <th>22</th>\n",
       "      <td>Tue, 18 Aug 2020 03:09:52 +0000 (UTC)</td>\n",
       "      <td>Thanks for your order: #2000012063</td>\n",
       "      <td>&lt;!DOCTYPE html PUBLIC \"-//W3C//DTD XHTML 1.0 S...</td>\n",
       "    </tr>\n",
       "    <tr>\n",
       "      <th>23</th>\n",
       "      <td>Tue, 18 Aug 2020 03:19:36 +0000 (UTC)</td>\n",
       "      <td>Thanks for your order: #2000012064</td>\n",
       "      <td>&lt;!DOCTYPE html PUBLIC \"-//W3C//DTD XHTML 1.0 S...</td>\n",
       "    </tr>\n",
       "    <tr>\n",
       "      <th>24</th>\n",
       "      <td>Tue, 18 Aug 2020 03:34:02 +0000 (UTC)</td>\n",
       "      <td>Thanks for your order: #2000012065</td>\n",
       "      <td>&lt;!DOCTYPE html PUBLIC \"-//W3C//DTD XHTML 1.0 S...</td>\n",
       "    </tr>\n",
       "  </tbody>\n",
       "</table>\n",
       "</div>"
      ],
      "text/plain": [
       "                                     date                             order #  \\\n",
       "20  Tue, 18 Aug 2020 02:31:21 +0000 (UTC)  Thanks for your order: #2000012061   \n",
       "21  Tue, 18 Aug 2020 02:37:10 +0000 (UTC)  Thanks for your order: #2000012062   \n",
       "22  Tue, 18 Aug 2020 03:09:52 +0000 (UTC)  Thanks for your order: #2000012063   \n",
       "23  Tue, 18 Aug 2020 03:19:36 +0000 (UTC)  Thanks for your order: #2000012064   \n",
       "24  Tue, 18 Aug 2020 03:34:02 +0000 (UTC)  Thanks for your order: #2000012065   \n",
       "\n",
       "                                                 Text  \n",
       "20  <!DOCTYPE html PUBLIC \"-//W3C//DTD XHTML 1.0 S...  \n",
       "21  <!DOCTYPE html PUBLIC \"-//W3C//DTD XHTML 1.0 S...  \n",
       "22  <!DOCTYPE html PUBLIC \"-//W3C//DTD XHTML 1.0 S...  \n",
       "23  <!DOCTYPE html PUBLIC \"-//W3C//DTD XHTML 1.0 S...  \n",
       "24  <!DOCTYPE html PUBLIC \"-//W3C//DTD XHTML 1.0 S...  "
      ]
     },
     "execution_count": 52,
     "metadata": {},
     "output_type": "execute_result"
    }
   ],
   "source": [
    "orders = pd.read_csv('zapier-order-sheet-daily-orders.csv', dtype=str)\n",
    "index_size = len(orders.index)\n",
    "\n",
    "\n",
    "print(index_size)\n",
    "orders.tail()"
   ]
  },
  {
   "cell_type": "code",
   "execution_count": 47,
   "metadata": {},
   "outputs": [],
   "source": [
    "#look into the ['Text'] column for the term \"business critical\". If it is found, print the order number\n",
    "def isbizcrit(text):\n",
    "    status = \"Business Critical\"\n",
    "    if status in text:\n",
    "        return True\n",
    "    else:\n",
    "        return False"
   ]
  },
  {
   "cell_type": "code",
   "execution_count": 53,
   "metadata": {},
   "outputs": [
    {
     "name": "stdout",
     "output_type": "stream",
     "text": [
      "   Order Number bizcrit\n",
      "0         12039   False\n",
      "1         12040   False\n",
      "2         12041   False\n",
      "3         12042   False\n",
      "4         12044   False\n",
      "5         12045   False\n",
      "6         12047    True\n",
      "7         12048   False\n",
      "8         12049   False\n",
      "9         12050   False\n",
      "10        12051   False\n",
      "11        12052   False\n",
      "12        12053   False\n",
      "13        12054   False\n",
      "14        12055   False\n",
      "15        12056   False\n",
      "16        12057   False\n",
      "17        12058   False\n",
      "18        12059   False\n",
      "19        12060   False\n",
      "20        12061   False\n",
      "21        12062   False\n",
      "22        12063   False\n",
      "23        12064   False\n",
      "24        12065    True\n"
     ]
    }
   ],
   "source": [
    "# create status dataframe\n",
    "status_order = pd.DataFrame(columns=['Order Number', 'bizcrit'])\n",
    "\n",
    "# looping to get the simplified order number and status\n",
    "i=0\n",
    "\n",
    "for i in range(0, index_size):\n",
    "    text = orders['Text'][i]\n",
    "    order_number = orders['order #'][i].split('20000',1)[1]\n",
    "    iscrit = isbizcrit(text)\n",
    "    \n",
    "    status_order = status_order.append({'Order Number':order_number, 'bizcrit':iscrit}, ignore_index=True)\n",
    "    \n",
    "    i+1\n",
    "\n",
    "print(status_order)\n"
   ]
  },
  {
   "cell_type": "code",
   "execution_count": 83,
   "metadata": {},
   "outputs": [],
   "source": [
    "j=0\n",
    "biz_crit_orders = []\n",
    "\n",
    "for j in range(0, index_size):\n",
    "    if status_order['bizcrit'][j] == True:\n",
    "        biz_crit_orders.insert(j, status_order['Order Number'][j])\n",
    "        j+1\n",
    "        \n",
    "        \n",
    "\n",
    "size_status = len(biz_crit_orders)\n"
   ]
  },
  {
   "cell_type": "code",
   "execution_count": null,
   "metadata": {},
   "outputs": [],
   "source": []
  }
 ],
 "metadata": {
  "kernelspec": {
   "display_name": "Python 3",
   "language": "python",
   "name": "python3"
  },
  "language_info": {
   "codemirror_mode": {
    "name": "ipython",
    "version": 3
   },
   "file_extension": ".py",
   "mimetype": "text/x-python",
   "name": "python",
   "nbconvert_exporter": "python",
   "pygments_lexer": "ipython3",
   "version": "3.6.10"
  }
 },
 "nbformat": 4,
 "nbformat_minor": 4
}
