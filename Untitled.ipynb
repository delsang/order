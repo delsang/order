{
 "cells": [
  {
   "cell_type": "code",
   "execution_count": 62,
   "metadata": {},
   "outputs": [],
   "source": [
    "import pandas as pd\n",
    "from pathlib import Path\n",
    "import math"
   ]
  },
  {
   "cell_type": "code",
   "execution_count": 63,
   "metadata": {},
   "outputs": [
    {
     "data": {
      "text/html": [
       "<div>\n",
       "<style scoped>\n",
       "    .dataframe tbody tr th:only-of-type {\n",
       "        vertical-align: middle;\n",
       "    }\n",
       "\n",
       "    .dataframe tbody tr th {\n",
       "        vertical-align: top;\n",
       "    }\n",
       "\n",
       "    .dataframe thead th {\n",
       "        text-align: right;\n",
       "    }\n",
       "</style>\n",
       "<table border=\"1\" class=\"dataframe\">\n",
       "  <thead>\n",
       "    <tr style=\"text-align: right;\">\n",
       "      <th></th>\n",
       "      <th>Item No.</th>\n",
       "      <th>Description</th>\n",
       "      <th>Range</th>\n",
       "      <th>MOQ</th>\n",
       "      <th>Tier 1 Price</th>\n",
       "      <th>Tier 2 Qty</th>\n",
       "      <th>Tier 2 Price</th>\n",
       "      <th>Tier 3 Qty</th>\n",
       "      <th>Tier 3 Price</th>\n",
       "      <th>Unit</th>\n",
       "      <th>Supplier</th>\n",
       "    </tr>\n",
       "  </thead>\n",
       "  <tbody>\n",
       "    <tr>\n",
       "      <th>0</th>\n",
       "      <td>16051</td>\n",
       "      <td>COFFEE SPOON-18/10 JEWEL</td>\n",
       "      <td>NaN</td>\n",
       "      <td>12</td>\n",
       "      <td>$ 0.91</td>\n",
       "      <td>NaN</td>\n",
       "      <td>NaN</td>\n",
       "      <td>NaN</td>\n",
       "      <td>NaN</td>\n",
       "      <td>NaN</td>\n",
       "      <td>Trenton WA</td>\n",
       "    </tr>\n",
       "    <tr>\n",
       "      <th>1</th>\n",
       "      <td>16052</td>\n",
       "      <td>DESSERT FORK-18/10 JEWEL</td>\n",
       "      <td>NaN</td>\n",
       "      <td>12</td>\n",
       "      <td>$ 1.73</td>\n",
       "      <td>NaN</td>\n",
       "      <td>NaN</td>\n",
       "      <td>NaN</td>\n",
       "      <td>NaN</td>\n",
       "      <td>NaN</td>\n",
       "      <td>Trenton WA</td>\n",
       "    </tr>\n",
       "    <tr>\n",
       "      <th>2</th>\n",
       "      <td>16053</td>\n",
       "      <td>DESSERT SPOON-18/10 JEWEL</td>\n",
       "      <td>NaN</td>\n",
       "      <td>12</td>\n",
       "      <td>$ 1.73</td>\n",
       "      <td>NaN</td>\n",
       "      <td>NaN</td>\n",
       "      <td>NaN</td>\n",
       "      <td>NaN</td>\n",
       "      <td>NaN</td>\n",
       "      <td>Trenton WA</td>\n",
       "    </tr>\n",
       "    <tr>\n",
       "      <th>3</th>\n",
       "      <td>16054</td>\n",
       "      <td>SOUP SPOON-18/10 JEWEL</td>\n",
       "      <td>NaN</td>\n",
       "      <td>12</td>\n",
       "      <td>$ 1.73</td>\n",
       "      <td>NaN</td>\n",
       "      <td>NaN</td>\n",
       "      <td>NaN</td>\n",
       "      <td>NaN</td>\n",
       "      <td>NaN</td>\n",
       "      <td>Trenton WA</td>\n",
       "    </tr>\n",
       "    <tr>\n",
       "      <th>4</th>\n",
       "      <td>16055</td>\n",
       "      <td>TEASPOON-18/10 JEWEL</td>\n",
       "      <td>NaN</td>\n",
       "      <td>12</td>\n",
       "      <td>$ 1.06</td>\n",
       "      <td>NaN</td>\n",
       "      <td>NaN</td>\n",
       "      <td>NaN</td>\n",
       "      <td>NaN</td>\n",
       "      <td>NaN</td>\n",
       "      <td>Trenton WA</td>\n",
       "    </tr>\n",
       "  </tbody>\n",
       "</table>\n",
       "</div>"
      ],
      "text/plain": [
       "  Item No.                Description Range  MOQ Tier 1 Price  Tier 2 Qty  \\\n",
       "0    16051   COFFEE SPOON-18/10 JEWEL   NaN   12      $ 0.91          NaN   \n",
       "1    16052   DESSERT FORK-18/10 JEWEL   NaN   12      $ 1.73          NaN   \n",
       "2    16053  DESSERT SPOON-18/10 JEWEL   NaN   12      $ 1.73          NaN   \n",
       "3    16054     SOUP SPOON-18/10 JEWEL   NaN   12      $ 1.73          NaN   \n",
       "4    16055       TEASPOON-18/10 JEWEL   NaN   12      $ 1.06          NaN   \n",
       "\n",
       "  Tier 2 Price  Tier 3 Qty Tier 3 Price Unit    Supplier  \n",
       "0          NaN         NaN          NaN  NaN  Trenton WA  \n",
       "1          NaN         NaN          NaN  NaN  Trenton WA  \n",
       "2          NaN         NaN          NaN  NaN  Trenton WA  \n",
       "3          NaN         NaN          NaN  NaN  Trenton WA  \n",
       "4          NaN         NaN          NaN  NaN  Trenton WA  "
      ]
     },
     "execution_count": 63,
     "metadata": {},
     "output_type": "execute_result"
    }
   ],
   "source": [
    "dir_to_pricelist = '/Users/Delphine/Desktop/work/Price Lists'\n",
    "p_pricelist = Path(dir_to_pricelist)\n",
    "\n",
    "pricelist = pd.read_csv(p_pricelist/'All Suppliers Price List.csv')\n",
    "pricelist = pricelist.drop(['Unnamed: 0'], axis=1)\n",
    "pricelist.astype({'Item No.':'str'}).dtypes\n",
    "pricelist.head()"
   ]
  },
  {
   "cell_type": "code",
   "execution_count": 64,
   "metadata": {},
   "outputs": [
    {
     "name": "stdout",
     "output_type": "stream",
     "text": [
      "['EVE10501.TK x 3', 'CC528748 x 1', '17060 x 48', '69890.TK x 2', 'CC528748 x 1', 'CC140007 x 36']\n"
     ]
    }
   ],
   "source": [
    "content = ['EVE10501.TK x 3', 'CC528748 x 1', '17060 x 48', '69890.TK x 2', 'CC528748 x 1', 'CC140007 x 36']\n",
    "print(content)"
   ]
  },
  {
   "cell_type": "code",
   "execution_count": 67,
   "metadata": {},
   "outputs": [
    {
     "name": "stdout",
     "output_type": "stream",
     "text": [
      "           Sku  Quantity\n",
      "0        17060        48\n",
      "1     69890.TK         2\n",
      "2     CC140007        36\n",
      "3     CC528748         2\n",
      "4  EVE10501.TK         3\n"
     ]
    }
   ],
   "source": [
    "def order_to_pd():\n",
    "    df = pd.DataFrame(content, columns = ['ordering'])\n",
    "    df = df.join(\n",
    "            df.ordering.str.rsplit(n=2 , expand=True).rename(\n",
    "                columns={0: 'Sku', 1: 'times', 2: 'Quantity'}\n",
    "            )\n",
    "        )\n",
    "    df = df.drop(['ordering', 'times'], axis = 1)\n",
    "    df= df.dropna(axis=0)\n",
    "    df = df.astype({\"Quantity\": int})\n",
    "    df = df.groupby(by='Sku', as_index = False ).sum()\n",
    "    \n",
    "    return df\n",
    "\n",
    "orders = order_to_pd()\n",
    "print(orders)"
   ]
  },
  {
   "cell_type": "code",
   "execution_count": null,
   "metadata": {},
   "outputs": [],
   "source": []
  },
  {
   "cell_type": "code",
   "execution_count": null,
   "metadata": {},
   "outputs": [],
   "source": []
  },
  {
   "cell_type": "code",
   "execution_count": 68,
   "metadata": {},
   "outputs": [],
   "source": [
    "def moq():\n",
    "    df = order_to_pd()\n",
    "    \n",
    "    for i in range (0, len(df.index)):\n",
    "        #try:\n",
    "        price_list_line = pricelist.loc[pricelist['Item No.'] == df['Sku'][i]]\n",
    "        item = pricelist.loc[price_list_line.index]\n",
    "        #index_item = item.index[0]\n",
    "        qty_needed = int(df['Quantity'][i])\n",
    "\n",
    "        #except:\n",
    "            # The product code isn't on the price list, order the quantity originally ordered\n",
    "         #   sku_qty.at[i, 'To Order'] = qty_needed\n",
    "\n",
    "        #continue\n",
    "\n",
    "        # Dealing with the cutlery having to be ordered in dozens only\n",
    "\n",
    "        if ((price_list_line['Unit']  == 'Doz').all() | (price_list_line['Unit']  == 'DOZ').all()):\n",
    "\n",
    "            to_order = math.ceil(qty_needed / 12)\n",
    "            df.at[i, 'To Order'] = to_order\n",
    "\n",
    "\n",
    "        else : \n",
    "\n",
    "        # The product code is on the price list, make the calculations based on MOQ\n",
    "        # Most of products will follow this\n",
    "\n",
    "            moq = int(item['MOQ'][item.index[0]]) \n",
    "            to_order = math.ceil(qty_needed / moq) * moq\n",
    "            df.at[i, 'To Order'] = to_order\n",
    "       \n",
    "        \n",
    "    return df"
   ]
  },
  {
   "cell_type": "code",
   "execution_count": 70,
   "metadata": {},
   "outputs": [
    {
     "data": {
      "text/html": [
       "<div>\n",
       "<style scoped>\n",
       "    .dataframe tbody tr th:only-of-type {\n",
       "        vertical-align: middle;\n",
       "    }\n",
       "\n",
       "    .dataframe tbody tr th {\n",
       "        vertical-align: top;\n",
       "    }\n",
       "\n",
       "    .dataframe thead th {\n",
       "        text-align: right;\n",
       "    }\n",
       "</style>\n",
       "<table border=\"1\" class=\"dataframe\">\n",
       "  <thead>\n",
       "    <tr style=\"text-align: right;\">\n",
       "      <th></th>\n",
       "      <th>Sku</th>\n",
       "      <th>Quantity</th>\n",
       "      <th>To Order</th>\n",
       "    </tr>\n",
       "  </thead>\n",
       "  <tbody>\n",
       "    <tr>\n",
       "      <th>0</th>\n",
       "      <td>17060</td>\n",
       "      <td>48</td>\n",
       "      <td>4.0</td>\n",
       "    </tr>\n",
       "    <tr>\n",
       "      <th>1</th>\n",
       "      <td>69890.TK</td>\n",
       "      <td>2</td>\n",
       "      <td>2.0</td>\n",
       "    </tr>\n",
       "    <tr>\n",
       "      <th>2</th>\n",
       "      <td>CC140007</td>\n",
       "      <td>36</td>\n",
       "      <td>48.0</td>\n",
       "    </tr>\n",
       "    <tr>\n",
       "      <th>3</th>\n",
       "      <td>CC528748</td>\n",
       "      <td>2</td>\n",
       "      <td>2.0</td>\n",
       "    </tr>\n",
       "    <tr>\n",
       "      <th>4</th>\n",
       "      <td>EVE10501.TK</td>\n",
       "      <td>3</td>\n",
       "      <td>3.0</td>\n",
       "    </tr>\n",
       "  </tbody>\n",
       "</table>\n",
       "</div>"
      ],
      "text/plain": [
       "           Sku  Quantity  To Order\n",
       "0        17060        48       4.0\n",
       "1     69890.TK         2       2.0\n",
       "2     CC140007        36      48.0\n",
       "3     CC528748         2       2.0\n",
       "4  EVE10501.TK         3       3.0"
      ]
     },
     "execution_count": 70,
     "metadata": {},
     "output_type": "execute_result"
    }
   ],
   "source": [
    "orders = moq()\n",
    "orders"
   ]
  },
  {
   "cell_type": "code",
   "execution_count": 74,
   "metadata": {},
   "outputs": [],
   "source": [
    "def get_order_toplace():\n",
    "    \n",
    "    df = moq()\n",
    "    codes_list = []\n",
    "    i=0\n",
    "\n",
    "    def convertTuple(tup):\n",
    "        str =  ''.join(tup)\n",
    "        return str\n",
    "\n",
    "    for i in df.index:\n",
    "        code_plus_quantities = df['Sku'][i], ' x ' , str(int(df['To Order'][i]))\n",
    "        code_plus_quantities = convertTuple(code_plus_quantities)\n",
    "        codes_list.append(code_plus_quantities)\n",
    "        i+1\n",
    "\n",
    "    return codes_list"
   ]
  },
  {
   "cell_type": "code",
   "execution_count": 75,
   "metadata": {},
   "outputs": [
    {
     "data": {
      "text/plain": [
       "['17060 x 4',\n",
       " '69890.TK x 2',\n",
       " 'CC140007 x 48',\n",
       " 'CC528748 x 2',\n",
       " 'EVE10501.TK x 3']"
      ]
     },
     "execution_count": 75,
     "metadata": {},
     "output_type": "execute_result"
    }
   ],
   "source": [
    "codes_list = get_order_toplace()\n",
    "codes_list"
   ]
  },
  {
   "cell_type": "code",
   "execution_count": null,
   "metadata": {},
   "outputs": [],
   "source": []
  }
 ],
 "metadata": {
  "kernelspec": {
   "display_name": "Python 3",
   "language": "python",
   "name": "python3"
  },
  "language_info": {
   "codemirror_mode": {
    "name": "ipython",
    "version": 3
   },
   "file_extension": ".py",
   "mimetype": "text/x-python",
   "name": "python",
   "nbconvert_exporter": "python",
   "pygments_lexer": "ipython3",
   "version": "3.6.10"
  }
 },
 "nbformat": 4,
 "nbformat_minor": 4
}
